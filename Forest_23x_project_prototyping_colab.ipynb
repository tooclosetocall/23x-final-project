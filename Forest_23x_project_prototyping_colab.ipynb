{
  "nbformat": 4,
  "nbformat_minor": 0,
  "metadata": {
    "colab": {
      "name": "Forest 23x project prototyping colab",
      "provenance": [],
      "collapsed_sections": [],
      "machine_shape": "hm"
    },
    "kernelspec": {
      "name": "python3",
      "display_name": "Python 3"
    },
    "language_info": {
      "name": "python"
    },
    "accelerator": "GPU"
  },
  "cells": [
    {
      "cell_type": "code",
      "metadata": {
        "id": "3Tsmk3cgr-fy",
        "colab": {
          "base_uri": "https://localhost:8080/"
        },
        "outputId": "f9c8008f-ece1-4ee8-fbff-245796abae32"
      },
      "source": [
        "!git clone https://github.com/tooclosetocall/23x-final-project.git data"
      ],
      "execution_count": 6,
      "outputs": [
        {
          "output_type": "stream",
          "text": [
            "Cloning into 'data'...\n",
            "remote: Enumerating objects: 119081, done.\u001b[K\n",
            "remote: Counting objects: 100% (30756/30756), done.\u001b[K\n",
            "remote: Compressing objects: 100% (10001/10001), done.\u001b[K\n",
            "remote: Total 119081 (delta 20349), reused 30756 (delta 20349), pack-reused 88325\n",
            "Receiving objects: 100% (119081/119081), 3.26 GiB | 35.07 MiB/s, done.\n",
            "Resolving deltas: 100% (81786/81786), done.\n",
            "Checking out files: 100% (273856/273856), done.\n"
          ],
          "name": "stdout"
        }
      ]
    },
    {
      "cell_type": "markdown",
      "metadata": {
        "id": "zVWjPlsDsEKs"
      },
      "source": [
        "Let's load the data into here and try to put up some basic models if we want\n",
        "cuz its free"
      ]
    },
    {
      "cell_type": "code",
      "metadata": {
        "colab": {
          "base_uri": "https://localhost:8080/"
        },
        "id": "rmzqVrVPjMV-",
        "outputId": "31dd5f78-8bb8-49d2-8362-2b4bacbbdc83"
      },
      "source": [
        "import os\n",
        "import tensorflow as tf\n",
        "from tensorflow.keras import layers, models\n",
        "from keras.callbacks import EarlyStopping, ModelCheckpoint\n",
        "import numpy as np\n",
        "import pandas as pd\n",
        "import math\n",
        "import timeit\n",
        "import matplotlib.pyplot as plt\n",
        "from PIL import Image\n",
        "\n",
        "%matplotlib inline\n",
        "\n",
        "USE_GPU = True\n",
        "\n",
        "if USE_GPU:\n",
        "    device = '/device:GPU:0'\n",
        "else:\n",
        "    device = '/cpu:0'\n",
        "\n",
        "# Constant to control how often we print when training models.\n",
        "print_every = 100\n",
        "print('Using device: ', device)"
      ],
      "execution_count": 1,
      "outputs": [
        {
          "output_type": "stream",
          "text": [
            "Using device:  /device:GPU:0\n"
          ],
          "name": "stdout"
        }
      ]
    },
    {
      "cell_type": "code",
      "metadata": {
        "id": "x6SFgOo6ngL_"
      },
      "source": [
        "#Import labels into pandas dfs\n",
        "train_df = pd.read_csv(\"data/train.csv\")\n",
        "val_df = pd.read_csv(\"data/val.csv\")\n",
        "test_df = pd.read_csv(\"data/test.csv\")"
      ],
      "execution_count": 2,
      "outputs": []
    },
    {
      "cell_type": "code",
      "metadata": {
        "colab": {
          "base_uri": "https://localhost:8080/",
          "height": 272
        },
        "id": "z9pT02kTpec2",
        "outputId": "27ac138a-9110-439a-e040-c2c4ae1f36c8"
      },
      "source": [
        "train_df.head(5)"
      ],
      "execution_count": 4,
      "outputs": [
        {
          "output_type": "execute_result",
          "data": {
            "text/html": [
              "<div>\n",
              "<style scoped>\n",
              "    .dataframe tbody tr th:only-of-type {\n",
              "        vertical-align: middle;\n",
              "    }\n",
              "\n",
              "    .dataframe tbody tr th {\n",
              "        vertical-align: top;\n",
              "    }\n",
              "\n",
              "    .dataframe thead th {\n",
              "        text-align: right;\n",
              "    }\n",
              "</style>\n",
              "<table border=\"1\" class=\"dataframe\">\n",
              "  <thead>\n",
              "    <tr style=\"text-align: right;\">\n",
              "      <th></th>\n",
              "      <th>label</th>\n",
              "      <th>merged_label</th>\n",
              "      <th>latitude</th>\n",
              "      <th>longitude</th>\n",
              "      <th>year</th>\n",
              "      <th>example_path</th>\n",
              "    </tr>\n",
              "  </thead>\n",
              "  <tbody>\n",
              "    <tr>\n",
              "      <th>0</th>\n",
              "      <td>Timber plantation</td>\n",
              "      <td>Plantation</td>\n",
              "      <td>4.430849</td>\n",
              "      <td>96.101634</td>\n",
              "      <td>2014</td>\n",
              "      <td>examples/4.430849118860583_96.1016343478138</td>\n",
              "    </tr>\n",
              "    <tr>\n",
              "      <th>1</th>\n",
              "      <td>Other</td>\n",
              "      <td>Other</td>\n",
              "      <td>1.332341</td>\n",
              "      <td>109.374229</td>\n",
              "      <td>2012</td>\n",
              "      <td>examples/1.3323406178609702_109.37422873130464</td>\n",
              "    </tr>\n",
              "    <tr>\n",
              "      <th>2</th>\n",
              "      <td>Grassland shrubland</td>\n",
              "      <td>Grassland shrubland</td>\n",
              "      <td>-1.720266</td>\n",
              "      <td>115.006996</td>\n",
              "      <td>2016</td>\n",
              "      <td>examples/-1.7202663845775041_115.00699582064483</td>\n",
              "    </tr>\n",
              "    <tr>\n",
              "      <th>3</th>\n",
              "      <td>Small-scale agriculture</td>\n",
              "      <td>Smallholder agriculture</td>\n",
              "      <td>-2.248346</td>\n",
              "      <td>104.135786</td>\n",
              "      <td>2011</td>\n",
              "      <td>examples/-2.248346072674411_104.1357857482906</td>\n",
              "    </tr>\n",
              "    <tr>\n",
              "      <th>4</th>\n",
              "      <td>Other large-scale plantations</td>\n",
              "      <td>Plantation</td>\n",
              "      <td>-2.100800</td>\n",
              "      <td>113.022376</td>\n",
              "      <td>2008</td>\n",
              "      <td>examples/-2.100800102991412_113.02237632340159</td>\n",
              "    </tr>\n",
              "  </tbody>\n",
              "</table>\n",
              "</div>"
            ],
            "text/plain": [
              "                           label  ...                                     example_path\n",
              "0              Timber plantation  ...      examples/4.430849118860583_96.1016343478138\n",
              "1                          Other  ...   examples/1.3323406178609702_109.37422873130464\n",
              "2            Grassland shrubland  ...  examples/-1.7202663845775041_115.00699582064483\n",
              "3        Small-scale agriculture  ...    examples/-2.248346072674411_104.1357857482906\n",
              "4  Other large-scale plantations  ...   examples/-2.100800102991412_113.02237632340159\n",
              "\n",
              "[5 rows x 6 columns]"
            ]
          },
          "metadata": {
            "tags": []
          },
          "execution_count": 4
        }
      ]
    },
    {
      "cell_type": "code",
      "metadata": {
        "id": "OtURxxbUpnva"
      },
      "source": [
        "#Turn training metadata into label vectors\n",
        "y_train_u, y_train_ind = np.unique(train_df['label'], return_inverse=True)\n",
        "y_train = np.zeros((y_train_ind.size, y_train_ind.max()+ 1))\n",
        "y_train[np.arange(y_train_ind.size), y_train_ind] = 1\n",
        "\n",
        "y_val_u, y_val_ind = np.unique(val_df['label'], return_inverse=True)\n",
        "y_val = np.zeros((y_val_ind.size, y_val_ind.max()+ 1))\n",
        "y_val[np.arange(y_val_ind.size), y_val_ind] = 1\n",
        "\n",
        "y_test_u, y_test_ind = np.unique(test_df['label'], return_inverse=True)\n",
        "y_test = np.zeros((y_test_ind.size, y_test_ind.max()+ 1))\n",
        "y_test[np.arange(y_test_ind.size), y_test_ind] = 1"
      ],
      "execution_count": 4,
      "outputs": []
    },
    {
      "cell_type": "code",
      "metadata": {
        "id": "0nWoWXoGLUxb"
      },
      "source": [
        ""
      ],
      "execution_count": 5,
      "outputs": []
    },
    {
      "cell_type": "code",
      "metadata": {
        "colab": {
          "base_uri": "https://localhost:8080/"
        },
        "id": "JatugobSwxzT",
        "outputId": "fe9bb20f-d037-4dce-e0bb-080e47f4b29d"
      },
      "source": [
        "print(\"y_train: \", y_train_u)\n",
        "print(\"y_val: \", y_val_u)\n",
        "print(\"y_test: \", y_test_u)\n",
        "print(\"y_train: \", y_train.shape)\n",
        "print(\"y_val: \", y_val.shape)\n",
        "print(\"y_test: \", y_test.shape)"
      ],
      "execution_count": 6,
      "outputs": [
        {
          "output_type": "stream",
          "text": [
            "y_train:  ['Fish pond' 'Grassland shrubland' 'Logging' 'Mining'\n",
            " 'Oil palm plantation' 'Other' 'Other large-scale plantations'\n",
            " 'Secondary forest' 'Small-scale agriculture'\n",
            " 'Small-scale mixed plantation' 'Small-scale oil palm plantation'\n",
            " 'Timber plantation']\n",
            "y_val:  ['Fish pond' 'Grassland shrubland' 'Logging' 'Mining'\n",
            " 'Oil palm plantation' 'Other' 'Other large-scale plantations'\n",
            " 'Secondary forest' 'Small-scale agriculture'\n",
            " 'Small-scale mixed plantation' 'Small-scale oil palm plantation'\n",
            " 'Timber plantation']\n",
            "y_test:  ['Fish pond' 'Grassland shrubland' 'Logging' 'Mining'\n",
            " 'Oil palm plantation' 'Other' 'Other large-scale plantations'\n",
            " 'Secondary forest' 'Small-scale agriculture'\n",
            " 'Small-scale mixed plantation' 'Small-scale oil palm plantation'\n",
            " 'Timber plantation']\n",
            "y_train:  (1616, 12)\n",
            "y_val:  (473, 12)\n",
            "y_test:  (668, 12)\n"
          ],
          "name": "stdout"
        }
      ]
    },
    {
      "cell_type": "code",
      "metadata": {
        "id": "gveexxG-p9Wb"
      },
      "source": [
        "#Turn images into 4d np array\n",
        "\n",
        "#for infrared\n",
        "X_train = []\n",
        "for i,d in train_df.iterrows():\n",
        "  example_path = d['example_path']\n",
        "  image_path = os.path.join('data', os.path.join(example_path, 'images/visible/composite.png'))\n",
        "  image = Image.open(image_path)\n",
        "  image_arr = np.asarray(image)\n",
        "  X_train.append(image_arr)\n",
        "X_train = np.array(X_train)\n",
        "\n",
        "X_val = []\n",
        "for i,d in val_df.iterrows():\n",
        "  example_path = d['example_path']\n",
        "  image_path = os.path.join('data', os.path.join(example_path, 'images/visible/composite.png'))\n",
        "  image = Image.open(image_path)\n",
        "  image_arr = np.asarray(image)\n",
        "  X_val.append(image_arr)\n",
        "X_val = np.array(X_val)\n",
        "\n",
        "X_test = []\n",
        "for i,d in test_df.iterrows():\n",
        "  example_path = d['example_path']\n",
        "  image_path = os.path.join('data', os.path.join(example_path, 'images/visible/composite.png'))\n",
        "  image = Image.open(image_path)\n",
        "  image_arr = np.asarray(image)\n",
        "  X_test.append(image_arr)\n",
        "X_test = np.array(X_test)"
      ],
      "execution_count": 5,
      "outputs": []
    },
    {
      "cell_type": "code",
      "metadata": {
        "colab": {
          "base_uri": "https://localhost:8080/"
        },
        "id": "ureBlxIArDJQ",
        "outputId": "048bc371-7c6b-45ea-bcaf-08396a67c5f8"
      },
      "source": [
        "print(\"X_train: \", X_train.shape)\n",
        "print(\"X_val: \", X_val.shape)\n",
        "print(\"X_test: \", X_test.shape)"
      ],
      "execution_count": 8,
      "outputs": [
        {
          "output_type": "stream",
          "text": [
            "X_train:  (1616, 332, 332, 3)\n",
            "X_val:  (473, 332, 332, 3)\n",
            "X_test:  (668, 332, 332, 3)\n"
          ],
          "name": "stdout"
        }
      ]
    },
    {
      "cell_type": "code",
      "metadata": {
        "id": "Wk63XEwkzBME"
      },
      "source": [
        "for i in range(668): #TODO: be 100% sure data is correctly labelled\n",
        "  if(test_df['label'][i] == 'Fish pond'):\n",
        "    print(test_df['label'][i])\n",
        "    plt.imshow(X_test[i])\n",
        "    plt.show()"
      ],
      "execution_count": null,
      "outputs": []
    },
    {
      "cell_type": "code",
      "metadata": {
        "id": "xf833TM-yGzW"
      },
      "source": [
        "#Save dimensions for later\n",
        "\n",
        "#cutting them in two because my RAM is trash\n",
        "N_train, H, W, C = X_train.shape\n",
        "N_train, num_classes = int(y_train.shape[0]/), int(y_train.shape[1]/)\n",
        "N_val, N_test = int(X_val.shape[0]/), int(y_test.shape[0]/)\n",
        "input_shape = (H, W, C)"
      ],
      "execution_count": 6,
      "outputs": []
    },
    {
      "cell_type": "code",
      "metadata": {
        "id": "18XJ98EJxOtQ"
      },
      "source": [
        "#Define simple model to make sure data works\n",
        "\n",
        "\n",
        "hidden_layer_size = 400\n",
        "initializer = tf.initializers.VarianceScaling(scale=2.0)\n",
        "layersToby = [\n",
        "    tf.keras.layers.Flatten(input_shape=input_shape),\n",
        "    tf.keras.layers.Dense(hidden_layer_size, activation='relu',\n",
        "                          kernel_initializer=initializer),\n",
        "    tf.keras.layers.Dense(num_classes, activation='softmax', \n",
        "                          kernel_initializer=initializer),\n",
        "]\n",
        "poop_model = tf.keras.Sequential(layersToby)"
      ],
      "execution_count": 11,
      "outputs": []
    },
    {
      "cell_type": "code",
      "metadata": {
        "id": "gFSE1b6_yFGf"
      },
      "source": [
        "#Set params for training\n",
        "model = poop_model\n",
        "learning_rate = 1e-5\n",
        "optim = tf.keras.optimizers.SGD(learning_rate=learning_rate)"
      ],
      "execution_count": 12,
      "outputs": []
    },
    {
      "cell_type": "code",
      "metadata": {
        "colab": {
          "base_uri": "https://localhost:8080/"
        },
        "id": "dgWwcGa7lAEr",
        "outputId": "ea68f445-8da2-45b0-dcab-07a55162ed6a"
      },
      "source": [
        "#Keras built-in train-eval loop\n",
        "#REQUIRES:\n",
        "#         model\n",
        "#         optimizer\n",
        "#         data\n",
        "#         learning rate\n",
        "model.compile(optimizer=optim,\n",
        "              loss='sparse_categorical_crossentropy',\n",
        "              metrics=[tf.keras.metrics.sparse_categorical_accuracy])\n",
        "model.fit(X_train, y_train_ind, batch_size=64, epochs=3, validation_data=(X_val, y_val_ind))\n",
        "model.evaluate(X_test, y_test_ind)\n",
        "\n",
        "## TODO: Loss history\n",
        "## TODO: list label names\n",
        "## TODO: Build models\n",
        "## TODO: Hyperparameter tuning"
      ],
      "execution_count": 13,
      "outputs": [
        {
          "output_type": "stream",
          "text": [
            "Epoch 1/3\n",
            "26/26 [==============================] - 3s 25ms/step - loss: 158.7548 - sparse_categorical_accuracy: 0.1369 - val_loss: 2.8944 - val_sparse_categorical_accuracy: 0.1226\n",
            "Epoch 2/3\n",
            "26/26 [==============================] - 0s 18ms/step - loss: 2.6205 - sparse_categorical_accuracy: 0.1745 - val_loss: 2.6712 - val_sparse_categorical_accuracy: 0.1311\n",
            "Epoch 3/3\n",
            "26/26 [==============================] - 0s 17ms/step - loss: 2.4368 - sparse_categorical_accuracy: 0.1602 - val_loss: 2.7121 - val_sparse_categorical_accuracy: 0.1332\n",
            "21/21 [==============================] - 0s 6ms/step - loss: 2.7487 - sparse_categorical_accuracy: 0.1362\n"
          ],
          "name": "stdout"
        },
        {
          "output_type": "execute_result",
          "data": {
            "text/plain": [
              "[2.7486631870269775, 0.136227548122406]"
            ]
          },
          "metadata": {
            "tags": []
          },
          "execution_count": 13
        }
      ]
    },
    {
      "cell_type": "code",
      "metadata": {
        "id": "-uGO7Qx01Z96"
      },
      "source": [
        "def trainCNN(lr,dropout):\n",
        "  print(\"-----------------------------\")\n",
        "  print(\"lr: \",lr,\" dropout: \", dropout)\n",
        "  optim = tf.keras.optimizers.Adam(learning_rate=lr)\n",
        "  CN1 = models.Sequential()\n",
        "  #ol' faithful conv and max X3\n",
        "  CN1.add(layers.Conv2D(16,(3,3),activation = 'relu',kernel_initializer=tf.keras.initializers.he_normal,input_shape = input_shape))\n",
        "  CN1.add(layers.Dropout(dropout))\n",
        "  CN1.add(layers.MaxPooling2D((2,2)))\n",
        "  CN1.add(layers.Conv2D(32,(3,3),activation = 'relu',kernel_initializer=tf.keras.initializers.he_normal))\n",
        "  CN1.add(layers.Dropout(dropout))\n",
        "  CN1.add(layers.MaxPooling2D((2,2)))\n",
        "  CN1.add(layers.Conv2D(64,(2,2),activation = 'relu',kernel_initializer=tf.keras.initializers.he_normal))\n",
        "  CN1.add(layers.Dropout(dropout))\n",
        "  CN1.add(layers.MaxPooling2D((2,2)))\n",
        "  #then a conv with filter size one to decrease parameters\n",
        "  CN1.add(layers.Conv2D(16,(1,1),activation = 'relu',kernel_initializer=tf.keras.initializers.he_normal))\n",
        "  CN1.add(layers.Dropout(dropout))\n",
        "  #off to the first dimension\n",
        "  CN1.add(layers.Flatten())\n",
        "  CN1.add(layers.Dense(128,activation='relu',kernel_initializer=tf.keras.initializers.he_normal))\n",
        "  CN1.add(layers.Dropout(dropout))\n",
        "  CN1.add(layers.Dense(num_classes,activation='softmax',kernel_initializer=tf.keras.initializers.he_normal))\n",
        "\n",
        "  CN1.compile(optimizer=optim,\\\n",
        "              loss = tf.keras.losses.CategoricalCrossentropy(from_logits=True),\\\n",
        "              metrics = [tf.keras.metrics.CategoricalAccuracy()])\n",
        "  fitCN1 = CN1.fit(X_train, y_train, batch_size=64, epochs=120, validation_data=(X_val, y_val))\n",
        "  print(\"eval:\")\n",
        "  CN1.evaluate(X_test, y_test)\n",
        "  return (fitCN1, CN1)\n",
        "  print(\"-----------------------------\")"
      ],
      "execution_count": 14,
      "outputs": []
    },
    {
      "cell_type": "code",
      "metadata": {
        "id": "Mmp31Ove2FQZ"
      },
      "source": [
        "for lr in [1e-4]:\n",
        "  for drop in [.05]:\n",
        "    fitCN1, CN1 = trainCNN(lr,drop)"
      ],
      "execution_count": null,
      "outputs": []
    },
    {
      "cell_type": "code",
      "metadata": {
        "id": "ShJZJeuH26sb"
      },
      "source": [
        "for (lr, drop), model in enumerate(CNNs)"
      ],
      "execution_count": null,
      "outputs": []
    },
    {
      "cell_type": "code",
      "metadata": {
        "id": "H_Z4p6kTBSlP"
      },
      "source": [
        "i =  58\n",
        "print(\"y_val\")\n",
        "print(y_val[i])\n",
        "print(\"x_val\")\n",
        "plt.imshow(X_val[i])\n",
        "plt.show()\n",
        "fourier = np.fft.fft2(X_val[i],axes=(0,1))/np.absolute(np.fft.fft2(X_val[i],axes=(0,1))).max()\n",
        "plt.imshow(np.absolute(fourier))\n",
        "plt.show()\n",
        "print(\"prediction\")\n",
        "print(np.round(CN1.predict(X_val)[i],3))\n",
        "print(y_val_u)\n"
      ],
      "execution_count": null,
      "outputs": []
    },
    {
      "cell_type": "code",
      "metadata": {
        "id": "RTvzWOGDW7GY",
        "colab": {
          "base_uri": "https://localhost:8080/"
        },
        "outputId": "bf16caa6-7c88-4b3b-ed60-1e87d9846ccc"
      },
      "source": [
        "for i in range(10,20):\n",
        "  testFFT = np.fft.fft2(X_train[i],axes=(0,1))\n",
        "  testFFT *= 255/np.absolute(testFFT).max()\n",
        "  print(testFFT.shape)\n",
        "  #plt.imshow(X_train[i])\n",
        "  #plt.show()\n",
        "  #plt.imshow(np.absolute(testFFT))\n",
        "  #plt.show()\n"
      ],
      "execution_count": 61,
      "outputs": [
        {
          "output_type": "stream",
          "text": [
            "(332, 332, 3)\n",
            "(332, 332, 3)\n",
            "(332, 332, 3)\n",
            "(332, 332, 3)\n",
            "(332, 332, 3)\n",
            "(332, 332, 3)\n",
            "(332, 332, 3)\n",
            "(332, 332, 3)\n",
            "(332, 332, 3)\n",
            "(332, 332, 3)\n"
          ],
          "name": "stdout"
        }
      ]
    },
    {
      "cell_type": "code",
      "metadata": {
        "id": "NDFntjh-D-Ws"
      },
      "source": [
        "#Create dataset for Fourier Transformed Data\n",
        "N_FFT_train, N_FFT_val, N_FFT_test= N_train, N_val, N_test #TODO: normalize by the max value in the dataset\n",
        "\n",
        "FFT_train = []\n",
        "for i in range(N_FFT_train):\n",
        "  FFT = np.fft.fft2(X_train[i],axes=(0,1))\n",
        "  FFT *= 255/np.absolute(FFT).max()\n",
        "  FFT_train.append(FFT)\n",
        "FFT_train = np.asarray(FFT_train)\n",
        "\n",
        "FFT_val = []\n",
        "for i in range(N_FFT_val):\n",
        "  FFT = np.fft.fft2(X_val[i],axes=(0,1))\n",
        "  FFT *= 255/np.absolute(FFT).max()\n",
        "  FFT_val.append(FFT)\n",
        "FFT_val = np.asarray(FFT_val)\n",
        "\n",
        "FFT_test = []\n",
        "for i in range(N_FFT_test):\n",
        "  FFT = np.fft.fft2(X_test[i],axes=(0,1))\n",
        "  FFT *= 255/np.absolute(FFT).max()\n",
        "  FFT_test.append(FFT)\n",
        "FFT_test = np.asarray(FFT_test)"
      ],
      "execution_count": 11,
      "outputs": []
    },
    {
      "cell_type": "code",
      "metadata": {
        "id": "PL27Jz02NJ3P"
      },
      "source": [
        "def trainFFT_CNN(lr,dropout):\n",
        "  print(\"-----------------------------\")\n",
        "  print(\"lr: \",lr,\" dropout: \", dropout)\n",
        "  optim = tf.keras.optimizers.Adam(learning_rate=lr)\n",
        "  CN1 = models.Sequential()\n",
        "  #ol' faithful conv and max X3\n",
        "  CN1.add(layers.Conv2D(16,(3,3),activation = 'relu',kernel_initializer=tf.keras.initializers.he_normal,input_shape = input_shape))\n",
        "  CN1.add(layers.Dropout(dropout))\n",
        "  CN1.add(layers.MaxPooling2D((2,2)))\n",
        "  CN1.add(layers.Conv2D(32,(3,3),activation = 'relu',kernel_initializer=tf.keras.initializers.he_normal))\n",
        "  CN1.add(layers.Dropout(dropout))\n",
        "  CN1.add(layers.MaxPooling2D((2,2)))\n",
        "  CN1.add(layers.Conv2D(64,(2,2),activation = 'relu',kernel_initializer=tf.keras.initializers.he_normal))\n",
        "  CN1.add(layers.Dropout(dropout))\n",
        "  CN1.add(layers.MaxPooling2D((2,2)))\n",
        "  #then a conv with filter size one to decrease parameters\n",
        "  CN1.add(layers.Conv2D(16,(1,1),activation = 'relu',kernel_initializer=tf.keras.initializers.he_normal))\n",
        "  CN1.add(layers.Dropout(dropout))\n",
        "  #off to the first dimension\n",
        "  CN1.add(layers.Flatten())\n",
        "  CN1.add(layers.Dense(128,activation='relu',kernel_initializer=tf.keras.initializers.he_normal))\n",
        "  CN1.add(layers.Dropout(dropout))\n",
        "  CN1.add(layers.Dense(num_classes,activation='softmax',kernel_initializer=tf.keras.initializers.he_normal))\n",
        "\n",
        "  CN1.compile(optimizer=optim,\\\n",
        "            loss = tf.keras.losses.CategoricalCrossentropy(from_logits=True),\\\n",
        "            metrics = [tf.keras.metrics.CategoricalAccuracy()])\n",
        "  fitCN1 = CN1.fit(FFT_train, y_train[0:N_FFT_train], batch_size=64, epochs=50, validation_data=(FFT_val, y_val[0:N_FFT_val]))\n",
        "  print(\"eval:\")\n",
        "  CN1.evaluate(FFT_test, y_test[0:N_FFT_test])\n",
        "  return fitCN1\n",
        "  print(\"-----------------------------\")"
      ],
      "execution_count": 9,
      "outputs": []
    },
    {
      "cell_type": "code",
      "metadata": {
        "id": "-SJ0bAcSUX1p"
      },
      "source": [
        "for lr in [1e-7, 5e-6, 1e-5, 5e-5, 1e-4, 5e-4, 1e-3]:\n",
        "  for drop in [0, .05, 0.1, 0.15]:\n",
        "    trainFFT_CNN(lr,drop)"
      ],
      "execution_count": null,
      "outputs": []
    },
    {
      "cell_type": "code",
      "metadata": {
        "id": "ofNtdJqIUzTA",
        "colab": {
          "base_uri": "https://localhost:8080/",
          "height": 286
        },
        "outputId": "cb0b065c-a127-40df-9c90-5c2744c683b5"
      },
      "source": [
        "#ya boy david in the house cuz no cap been doing a lot of the work\n",
        "#so imma down three redbulls and a quesadilla and we gon make a homie\n",
        "#prob not lez be honest\n",
        "plt.imshow(X_train[0])\n",
        "y_train[0]"
      ],
      "execution_count": null,
      "outputs": [
        {
          "output_type": "execute_result",
          "data": {
            "text/plain": [
              "array([0., 0., 0., 0., 0., 0., 0., 0., 0., 0., 0., 1.])"
            ]
          },
          "metadata": {
            "tags": []
          },
          "execution_count": 20
        },
        {
          "output_type": "display_data",
          "data": {
            "image/png": "[encoded data removed]",
            "text/plain": [
              "<Figure size 432x288 with 1 Axes>"
            ]
          },
          "metadata": {
            "tags": [],
            "needs_background": "light"
          }
        }
      ]
    },
    {
      "cell_type": "code",
      "metadata": {
        "colab": {
          "base_uri": "https://localhost:8080/"
        },
        "id": "8FBU6zBmLZM8",
        "outputId": "b17143a5-fa69-4ca3-9870-b5fab4f197ac"
      },
      "source": [
        "X_train[0].shape"
      ],
      "execution_count": 29,
      "outputs": [
        {
          "output_type": "execute_result",
          "data": {
            "text/plain": [
              "(332, 332, 3)"
            ]
          },
          "metadata": {
            "tags": []
          },
          "execution_count": 29
        }
      ]
    },
    {
      "cell_type": "code",
      "metadata": {
        "colab": {
          "base_uri": "https://localhost:8080/"
        },
        "id": "HMqgye_OLlL_",
        "outputId": "026842bc-ad27-48ea-d34c-e4119076f0d3"
      },
      "source": [
        "y_train_u\n",
        "#we're gonna trust the pc cuz idk what shrubland means and these all sound\n",
        "#the same to ya boy"
      ],
      "execution_count": 6,
      "outputs": [
        {
          "output_type": "execute_result",
          "data": {
            "text/plain": [
              "array(['Fish pond', 'Grassland shrubland', 'Logging', 'Mining',\n",
              "       'Oil palm plantation', 'Other', 'Other large-scale plantations',\n",
              "       'Secondary forest', 'Small-scale agriculture',\n",
              "       'Small-scale mixed plantation', 'Small-scale oil palm plantation',\n",
              "       'Timber plantation'], dtype=object)"
            ]
          },
          "metadata": {
            "tags": []
          },
          "execution_count": 6
        }
      ]
    },
    {
      "cell_type": "code",
      "metadata": {
        "id": "odtlUzXHLpNn"
      },
      "source": [
        "import pywt\n",
        "coeffs = pywt.dwt2( X_train[0], axes=(0,1),wavelet='haar')\n",
        "cA, (cH, cV, cD) = coeffs \n",
        "#the approximation from wavelets bases, horizontal,\n",
        "#vertical and diagonal coefficients\n",
        "'''cAMean = np.reshape(np.mean(cA,axis=2),(166,166,1))\n",
        "cHMean = np.reshape(np.mean(cH,axis=2),(166,166,1))\n",
        "cVMean = np.reshape(np.mean(cV,axis=2),(166,166,1))\n",
        "cAHV = np.concatenate([cAMean,cHMean, cVMean],axis=2)\n",
        "plt.imshow(cAHV)\n",
        "cAHV.shape'''\n",
        "cA.shape\n",
        "\n",
        "def doubleSample(x):\n",
        "  out = np.zeros((x.shape[0]*2,x.shape[0]*2))\n",
        "  for i in range(x.shape[0]):\n",
        "    for j in range(x.shape[0]):\n",
        "      out[2*i,2*j] = x[i,j]\n",
        "      out = np.reshape(out,(out.shape[0],out.shape[1],1))\n",
        "  return out\n"
      ],
      "execution_count": 12,
      "outputs": []
    },
    {
      "cell_type": "code",
      "metadata": {
        "id": "j9Y-kxcaqi2Y"
      },
      "source": [
        "maybe = doubleSample(np.mean(cA,axis=2))"
      ],
      "execution_count": 36,
      "outputs": []
    },
    {
      "cell_type": "code",
      "metadata": {
        "colab": {
          "base_uri": "https://localhost:8080/"
        },
        "id": "qLt3ObbAql22",
        "outputId": "911fc401-1ef0-4a32-d8c6-52c53e08382e"
      },
      "source": [
        "FFT_train[0].shape"
      ],
      "execution_count": 39,
      "outputs": [
        {
          "output_type": "execute_result",
          "data": {
            "text/plain": [
              "(332, 332, 3)"
            ]
          },
          "metadata": {
            "tags": []
          },
          "execution_count": 39
        }
      ]
    },
    {
      "cell_type": "code",
      "metadata": {
        "colab": {
          "base_uri": "https://localhost:8080/",
          "height": 609
        },
        "id": "CVrGCw4JhB_5",
        "outputId": "ee0b0351-be73-42f5-d896-b6eee78f179b"
      },
      "source": [
        "cA, (cH, cV, cD) = pywt.dwt2(X_train[0],'haar', axes=(0,1))\n",
        "#Create dataset for Wavelet data\n",
        "#copying Toby's code more or less\n",
        "''' \n",
        "tried db6, haar, horizontal coeffs, horizontal+vert, all plus fft\n",
        "\n",
        "if you want to do just WT w no FFT, just comment out all the cvmean2, chmean2 \n",
        "and uncomment the versions without the 2s\n",
        "\n",
        "TBH dont touch this. its broken\n",
        "'''\n",
        "N_WT_train, N_WT_val, N_WT_test= N_train, N_val, N_test #TODO: normalize by the max value in the dataset\n",
        "\n",
        "#will work with horizontal coefficients for now\n",
        "\n",
        "WT_train = []\n",
        "for i in range(N_WT_train):\n",
        "  cA, (cH, cV, cD) = pywt.dwt2(X_train[i],'haar', axes=(0,1))\n",
        "  #WT *= 255/np.absolute(WT).max()\n",
        "  #WT = np.concatenate([cH,cV],axis=2)\n",
        "  #cAMean = np.reshape(np.mean(cA,axis=2),(cA.shape[0],cA.shape[0],1))\n",
        "  #mean = np.reshape(np.mean(X_train[i],axis=2),(H,W,1))\n",
        "  cHmean2 = doubleSample(np.mean(cH,axis=2))\n",
        "  cVmean2 = doubleSample(np.mean(cV,axis=2))\n",
        "  #cHMean = np.reshape(np.mean(cH,axis=2),(cH.shape[0],cH.shape[0],1))\n",
        "  #cVMean = np.reshape(np.mean(cV,axis=2),(cV.shape[0],cV.shape[0],1))\n",
        "\n",
        "  cAHV = np.concatenate([FFT_train[i],cHmean2, cVmean2],axis=2)\n",
        "  WT_train.append(cAHV)\n",
        "FFT_train = np.asarray(WT_train)\n",
        "del(X_train)\n",
        "\n",
        "WT_val = []\n",
        "for i in range(N_WT_val):\n",
        "  cA, (cH, cV, cD) = pywt.dwt2(X_val[i],'haar', axes=(0,1))\n",
        "  #WT *= 255/np.absolute(WT).max()\n",
        "  #WT = np.concatenate([cH,cV],axis=2)\n",
        "  #cAMean = np.reshape(np.mean(cA,axis=2),(cA.shape[0],cA.shape[0],1))\n",
        "  #mean = np.reshape(np.mean(X_val[i],axis=2),(H,W,1))\n",
        "  cHmean2 = doubleSample(np.mean(cH,axis=2))\n",
        "  cVmean2 = doubleSample(np.mean(cV,axis=2))\n",
        "  #cHMean = np.reshape(np.mean(cH,axis=2),(cH.shape[0],cH.shape[0],1))\n",
        "  #cVMean = np.reshape(np.mean(cV,axis=2),(cV.shape[0],cV.shape[0],1))\n",
        "  cAHV = np.concatenate([FFT_val[i],cHmean2, cVmean2],axis=2)\n",
        "  WT_val.append(cAHV)\n",
        "FFT_val = np.asarray(WT_val)\n",
        "del(X_val)\n",
        "\n",
        "WT_test = []\n",
        "for i in range(N_WT_test):\n",
        "  cA, (cH, cV, cD) = pywt.dwt2(X_test[i],'haar', axes=(0,1))\n",
        "  #WT *= 255/np.absolute(WT).max()\n",
        "  #WT = np.concatenate([cH,cV],axis=2)\n",
        "  #cAMean = np.reshape(np.mean(cA,axis=2),(cA.shape[0],cA.shape[0],1))\n",
        "  #mean = np.reshape(np.mean(X_test[i],axis=2),(H,W,1))\n",
        "  cHmean2 = doubleSample(np.mean(cH,axis=2))\n",
        "  cVmean2 = doubleSample(np.mean(cV,axis=2))\n",
        "  #cHMean = np.reshape(np.mean(cH,axis=2),(cH.shape[0],cH.shape[0],1))\n",
        "  #cVMean = np.reshape(np.mean(cV,axis=2),(cV.shape[0],cV.shape[0],1))\n",
        "  cAHV = np.concatenate([FFT_test[i],cHmean2, cVmean2],axis=2)\n",
        "  WT_test.append(cAHV)\n",
        "FFT_test = np.asarray(WT_test)\n",
        "del(X_test)\n",
        "WT_input_shape = FFT_train[0].shape\n",
        "plt.imshow(FFT_train[0])\n"
      ],
      "execution_count": 13,
      "outputs": [
        {
          "output_type": "error",
          "ename": "TypeError",
          "evalue": "ignored",
          "traceback": [
            "\u001b[0;31m---------------------------------------------------------------------------\u001b[0m",
            "\u001b[0;31mTypeError\u001b[0m                                 Traceback (most recent call last)",
            "\u001b[0;32m<ipython-input-13-2062ba0517af>\u001b[0m in \u001b[0;36m<module>\u001b[0;34m()\u001b[0m\n\u001b[1;32m     61\u001b[0m \u001b[0;32mdel\u001b[0m\u001b[0;34m(\u001b[0m\u001b[0mX_test\u001b[0m\u001b[0;34m)\u001b[0m\u001b[0;34m\u001b[0m\u001b[0;34m\u001b[0m\u001b[0m\n\u001b[1;32m     62\u001b[0m \u001b[0;34m\u001b[0m\u001b[0m\n\u001b[0;32m---> 63\u001b[0;31m \u001b[0mplt\u001b[0m\u001b[0;34m.\u001b[0m\u001b[0mimshow\u001b[0m\u001b[0;34m(\u001b[0m\u001b[0mFFT_train\u001b[0m\u001b[0;34m[\u001b[0m\u001b[0;36m0\u001b[0m\u001b[0;34m]\u001b[0m\u001b[0;34m)\u001b[0m\u001b[0;34m\u001b[0m\u001b[0;34m\u001b[0m\u001b[0m\n\u001b[0m\u001b[1;32m     64\u001b[0m \u001b[0mWT_input_shape\u001b[0m \u001b[0;34m=\u001b[0m \u001b[0mFFT_train\u001b[0m\u001b[0;34m[\u001b[0m\u001b[0;36m0\u001b[0m\u001b[0;34m]\u001b[0m\u001b[0;34m.\u001b[0m\u001b[0mshape\u001b[0m\u001b[0;34m\u001b[0m\u001b[0;34m\u001b[0m\u001b[0m\n",
            "\u001b[0;32m/usr/local/lib/python3.7/dist-packages/matplotlib/pyplot.py\u001b[0m in \u001b[0;36mimshow\u001b[0;34m(X, cmap, norm, aspect, interpolation, alpha, vmin, vmax, origin, extent, shape, filternorm, filterrad, imlim, resample, url, data, **kwargs)\u001b[0m\n\u001b[1;32m   2649\u001b[0m         \u001b[0mfilternorm\u001b[0m\u001b[0;34m=\u001b[0m\u001b[0mfilternorm\u001b[0m\u001b[0;34m,\u001b[0m \u001b[0mfilterrad\u001b[0m\u001b[0;34m=\u001b[0m\u001b[0mfilterrad\u001b[0m\u001b[0;34m,\u001b[0m \u001b[0mimlim\u001b[0m\u001b[0;34m=\u001b[0m\u001b[0mimlim\u001b[0m\u001b[0;34m,\u001b[0m\u001b[0;34m\u001b[0m\u001b[0;34m\u001b[0m\u001b[0m\n\u001b[1;32m   2650\u001b[0m         resample=resample, url=url, **({\"data\": data} if data is not\n\u001b[0;32m-> 2651\u001b[0;31m         None else {}), **kwargs)\n\u001b[0m\u001b[1;32m   2652\u001b[0m     \u001b[0msci\u001b[0m\u001b[0;34m(\u001b[0m\u001b[0m__ret\u001b[0m\u001b[0;34m)\u001b[0m\u001b[0;34m\u001b[0m\u001b[0;34m\u001b[0m\u001b[0m\n\u001b[1;32m   2653\u001b[0m     \u001b[0;32mreturn\u001b[0m \u001b[0m__ret\u001b[0m\u001b[0;34m\u001b[0m\u001b[0;34m\u001b[0m\u001b[0m\n",
            "\u001b[0;32m/usr/local/lib/python3.7/dist-packages/matplotlib/__init__.py\u001b[0m in \u001b[0;36minner\u001b[0;34m(ax, data, *args, **kwargs)\u001b[0m\n\u001b[1;32m   1563\u001b[0m     \u001b[0;32mdef\u001b[0m \u001b[0minner\u001b[0m\u001b[0;34m(\u001b[0m\u001b[0max\u001b[0m\u001b[0;34m,\u001b[0m \u001b[0;34m*\u001b[0m\u001b[0margs\u001b[0m\u001b[0;34m,\u001b[0m \u001b[0mdata\u001b[0m\u001b[0;34m=\u001b[0m\u001b[0;32mNone\u001b[0m\u001b[0;34m,\u001b[0m \u001b[0;34m**\u001b[0m\u001b[0mkwargs\u001b[0m\u001b[0;34m)\u001b[0m\u001b[0;34m:\u001b[0m\u001b[0;34m\u001b[0m\u001b[0;34m\u001b[0m\u001b[0m\n\u001b[1;32m   1564\u001b[0m         \u001b[0;32mif\u001b[0m \u001b[0mdata\u001b[0m \u001b[0;32mis\u001b[0m \u001b[0;32mNone\u001b[0m\u001b[0;34m:\u001b[0m\u001b[0;34m\u001b[0m\u001b[0;34m\u001b[0m\u001b[0m\n\u001b[0;32m-> 1565\u001b[0;31m             \u001b[0;32mreturn\u001b[0m \u001b[0mfunc\u001b[0m\u001b[0;34m(\u001b[0m\u001b[0max\u001b[0m\u001b[0;34m,\u001b[0m \u001b[0;34m*\u001b[0m\u001b[0mmap\u001b[0m\u001b[0;34m(\u001b[0m\u001b[0msanitize_sequence\u001b[0m\u001b[0;34m,\u001b[0m \u001b[0margs\u001b[0m\u001b[0;34m)\u001b[0m\u001b[0;34m,\u001b[0m \u001b[0;34m**\u001b[0m\u001b[0mkwargs\u001b[0m\u001b[0;34m)\u001b[0m\u001b[0;34m\u001b[0m\u001b[0;34m\u001b[0m\u001b[0m\n\u001b[0m\u001b[1;32m   1566\u001b[0m \u001b[0;34m\u001b[0m\u001b[0m\n\u001b[1;32m   1567\u001b[0m         \u001b[0mbound\u001b[0m \u001b[0;34m=\u001b[0m \u001b[0mnew_sig\u001b[0m\u001b[0;34m.\u001b[0m\u001b[0mbind\u001b[0m\u001b[0;34m(\u001b[0m\u001b[0max\u001b[0m\u001b[0;34m,\u001b[0m \u001b[0;34m*\u001b[0m\u001b[0margs\u001b[0m\u001b[0;34m,\u001b[0m \u001b[0;34m**\u001b[0m\u001b[0mkwargs\u001b[0m\u001b[0;34m)\u001b[0m\u001b[0;34m\u001b[0m\u001b[0;34m\u001b[0m\u001b[0m\n",
            "\u001b[0;32m/usr/local/lib/python3.7/dist-packages/matplotlib/cbook/deprecation.py\u001b[0m in \u001b[0;36mwrapper\u001b[0;34m(*args, **kwargs)\u001b[0m\n\u001b[1;32m    356\u001b[0m                 \u001b[0;34mf\"%(removal)s.  If any parameter follows {name!r}, they \"\u001b[0m\u001b[0;34m\u001b[0m\u001b[0;34m\u001b[0m\u001b[0m\n\u001b[1;32m    357\u001b[0m                 f\"should be pass as keyword, not positionally.\")\n\u001b[0;32m--> 358\u001b[0;31m         \u001b[0;32mreturn\u001b[0m \u001b[0mfunc\u001b[0m\u001b[0;34m(\u001b[0m\u001b[0;34m*\u001b[0m\u001b[0margs\u001b[0m\u001b[0;34m,\u001b[0m \u001b[0;34m**\u001b[0m\u001b[0mkwargs\u001b[0m\u001b[0;34m)\u001b[0m\u001b[0;34m\u001b[0m\u001b[0;34m\u001b[0m\u001b[0m\n\u001b[0m\u001b[1;32m    359\u001b[0m \u001b[0;34m\u001b[0m\u001b[0m\n\u001b[1;32m    360\u001b[0m     \u001b[0;32mreturn\u001b[0m \u001b[0mwrapper\u001b[0m\u001b[0;34m\u001b[0m\u001b[0;34m\u001b[0m\u001b[0m\n",
            "\u001b[0;32m/usr/local/lib/python3.7/dist-packages/matplotlib/cbook/deprecation.py\u001b[0m in \u001b[0;36mwrapper\u001b[0;34m(*args, **kwargs)\u001b[0m\n\u001b[1;32m    356\u001b[0m                 \u001b[0;34mf\"%(removal)s.  If any parameter follows {name!r}, they \"\u001b[0m\u001b[0;34m\u001b[0m\u001b[0;34m\u001b[0m\u001b[0m\n\u001b[1;32m    357\u001b[0m                 f\"should be pass as keyword, not positionally.\")\n\u001b[0;32m--> 358\u001b[0;31m         \u001b[0;32mreturn\u001b[0m \u001b[0mfunc\u001b[0m\u001b[0;34m(\u001b[0m\u001b[0;34m*\u001b[0m\u001b[0margs\u001b[0m\u001b[0;34m,\u001b[0m \u001b[0;34m**\u001b[0m\u001b[0mkwargs\u001b[0m\u001b[0;34m)\u001b[0m\u001b[0;34m\u001b[0m\u001b[0;34m\u001b[0m\u001b[0m\n\u001b[0m\u001b[1;32m    359\u001b[0m \u001b[0;34m\u001b[0m\u001b[0m\n\u001b[1;32m    360\u001b[0m     \u001b[0;32mreturn\u001b[0m \u001b[0mwrapper\u001b[0m\u001b[0;34m\u001b[0m\u001b[0;34m\u001b[0m\u001b[0m\n",
            "\u001b[0;32m/usr/local/lib/python3.7/dist-packages/matplotlib/axes/_axes.py\u001b[0m in \u001b[0;36mimshow\u001b[0;34m(self, X, cmap, norm, aspect, interpolation, alpha, vmin, vmax, origin, extent, shape, filternorm, filterrad, imlim, resample, url, **kwargs)\u001b[0m\n\u001b[1;32m   5624\u001b[0m                               resample=resample, **kwargs)\n\u001b[1;32m   5625\u001b[0m \u001b[0;34m\u001b[0m\u001b[0m\n\u001b[0;32m-> 5626\u001b[0;31m         \u001b[0mim\u001b[0m\u001b[0;34m.\u001b[0m\u001b[0mset_data\u001b[0m\u001b[0;34m(\u001b[0m\u001b[0mX\u001b[0m\u001b[0;34m)\u001b[0m\u001b[0;34m\u001b[0m\u001b[0;34m\u001b[0m\u001b[0m\n\u001b[0m\u001b[1;32m   5627\u001b[0m         \u001b[0mim\u001b[0m\u001b[0;34m.\u001b[0m\u001b[0mset_alpha\u001b[0m\u001b[0;34m(\u001b[0m\u001b[0malpha\u001b[0m\u001b[0;34m)\u001b[0m\u001b[0;34m\u001b[0m\u001b[0;34m\u001b[0m\u001b[0m\n\u001b[1;32m   5628\u001b[0m         \u001b[0;32mif\u001b[0m \u001b[0mim\u001b[0m\u001b[0;34m.\u001b[0m\u001b[0mget_clip_path\u001b[0m\u001b[0;34m(\u001b[0m\u001b[0;34m)\u001b[0m \u001b[0;32mis\u001b[0m \u001b[0;32mNone\u001b[0m\u001b[0;34m:\u001b[0m\u001b[0;34m\u001b[0m\u001b[0;34m\u001b[0m\u001b[0m\n",
            "\u001b[0;32m/usr/local/lib/python3.7/dist-packages/matplotlib/image.py\u001b[0m in \u001b[0;36mset_data\u001b[0;34m(self, A)\u001b[0m\n\u001b[1;32m    692\u001b[0m                 not np.can_cast(self._A.dtype, float, \"same_kind\")):\n\u001b[1;32m    693\u001b[0m             raise TypeError(\"Image data of dtype {} cannot be converted to \"\n\u001b[0;32m--> 694\u001b[0;31m                             \"float\".format(self._A.dtype))\n\u001b[0m\u001b[1;32m    695\u001b[0m \u001b[0;34m\u001b[0m\u001b[0m\n\u001b[1;32m    696\u001b[0m         if not (self._A.ndim == 2\n",
            "\u001b[0;31mTypeError\u001b[0m: Image data of dtype complex128 cannot be converted to float"
          ]
        },
        {
          "output_type": "display_data",
          "data": {
            "image/png": "[encoded data removed]",
            "text/plain": [
              "<Figure size 432x288 with 1 Axes>"
            ]
          },
          "metadata": {
            "tags": [],
            "needs_background": "light"
          }
        }
      ]
    },
    {
      "cell_type": "code",
      "metadata": {
        "id": "WnAvQvTnAMJy"
      },
      "source": [
        "WT_input_shape = FFT_train[0].shape"
      ],
      "execution_count": 18,
      "outputs": []
    },
    {
      "cell_type": "code",
      "metadata": {
        "id": "5ibYt0FU5KQt"
      },
      "source": [
        "def trainWT_CNN(lr,dropout): #looks familiar\n",
        "  lol = ['you got this', 'keep at it', \"show that Fourier Transforms who's boss\", 'who even is error?']\n",
        "  daLine = \"-----------------------------\"\n",
        "  print(daLine)\n",
        "  print(\"lr: \",lr,\" dropout: \", dropout)\n",
        "  optim = tf.keras.optimizers.Adam(learning_rate=lr)\n",
        "  CN1 = models.Sequential()\n",
        "  #ol' faithful conv and max X3\n",
        "  CN1.add(layers.Conv2D(16,(3,3),activation = 'relu',kernel_initializer=tf.keras.initializers.he_normal,input_shape = WT_input_shape))\n",
        "  CN1.add(layers.Dropout(dropout))\n",
        "  CN1.add(layers.MaxPooling2D((2,2)))\n",
        "  CN1.add(layers.Conv2D(16,(3,3),activation = 'relu',kernel_initializer=tf.keras.initializers.he_normal,input_shape = WT_input_shape))\n",
        "  CN1.add(layers.Dropout(dropout))\n",
        "  CN1.add(layers.MaxPooling2D((2,2)))\n",
        "  CN1.add(layers.Conv2D(32,(3,3),activation = 'relu',kernel_initializer=tf.keras.initializers.he_normal))\n",
        "  CN1.add(layers.Dropout(dropout))\n",
        "  CN1.add(layers.MaxPooling2D((2,2)))\n",
        "  CN1.add(layers.Conv2D(32,(2,2),activation = 'relu',kernel_initializer=tf.keras.initializers.he_normal))\n",
        "  CN1.add(layers.Dropout(dropout))\n",
        "  CN1.add(layers.MaxPooling2D((2,2)))\n",
        "  CN1.add(layers.Conv2D(64,(2,2),activation = 'relu',kernel_initializer=tf.keras.initializers.he_normal))\n",
        "  CN1.add(layers.Dropout(dropout))\n",
        "  CN1.add(layers.MaxPooling2D((2,2)))\n",
        "  #then a conv with filter size one to decrease parameters\n",
        "  CN1.add(layers.Conv2D(16,(1,1),activation = 'relu',kernel_initializer=tf.keras.initializers.he_normal))\n",
        "  CN1.add(layers.Dropout(dropout))\n",
        "  #off to the first dimension\n",
        "  CN1.add(layers.Flatten())\n",
        "  CN1.add(layers.Dense(128,activation='relu',kernel_initializer=tf.keras.initializers.he_normal))\n",
        "  #CN1.add(layers.Dropout(dropout))\n",
        "  CN1.add(layers.Dense(num_classes,activation='softmax',kernel_initializer=tf.keras.initializers.he_normal))\n",
        "\n",
        "  CN1.compile(optimizer=optim,\\\n",
        "            loss = tf.keras.losses.CategoricalCrossentropy(from_logits=True),\\\n",
        "            metrics = [tf.keras.metrics.CategoricalAccuracy()])\n",
        "  fitCN1 = CN1.fit(FFT_train, y_train[0:N_WT_train], batch_size=64, epochs=120, validation_data=(FFT_val, y_val[0:N_WT_val]))\n",
        "  print(\"eval:\")\n",
        "  CN1.evaluate(FFT_test, y_test[0:N_WT_test])\n",
        "  return fitCN1\n",
        "  print(daLine)\n",
        "  if np.random.rand()>.75:\n",
        "    k = np.random.randint(4)\n",
        "    print(lol[k])\n",
        "    print(daLine)\n"
      ],
      "execution_count": 16,
      "outputs": []
    },
    {
      "cell_type": "code",
      "metadata": {
        "colab": {
          "base_uri": "https://localhost:8080/"
        },
        "id": "cLhqDZjP8f6e",
        "outputId": "dbefdbca-45a9-4e1e-aee6-2997416912af"
      },
      "source": [
        "for _ in range(20):\n",
        "  print(np.random.rand())"
      ],
      "execution_count": 15,
      "outputs": [
        {
          "output_type": "stream",
          "text": [
            "0.17310391404868797\n",
            "0.7973408984049883\n",
            "0.37501173176540736\n",
            "0.9392390014831201\n",
            "0.17872102791353772\n",
            "0.3419089826237264\n",
            "0.4479195473304445\n",
            "0.08786922113262408\n",
            "0.5596377529807283\n",
            "0.9734329400338423\n",
            "0.19460925248500494\n",
            "0.5690337186056345\n",
            "0.387769570261004\n",
            "0.8449059965689784\n",
            "0.30292761225883247\n",
            "0.48687238092867513\n",
            "0.39592049548002994\n",
            "0.7130975546865639\n",
            "0.08732009468738866\n",
            "0.4040410985437226\n"
          ],
          "name": "stdout"
        }
      ]
    },
    {
      "cell_type": "code",
      "metadata": {
        "colab": {
          "base_uri": "https://localhost:8080/",
          "height": 1000
        },
        "id": "QrtoQiPp5UgD",
        "outputId": "2d1c61f4-10e1-49f3-90a5-41aa482d5fbc"
      },
      "source": [
        "for lr in [1e-6,1e-5,1e-4,1e-3]:\n",
        "  for drop in [.05,.125, .175, .2]:\n",
        "    trainWT_CNN(lr,drop)\n"
      ],
      "execution_count": 19,
      "outputs": [
        {
          "output_type": "stream",
          "text": [
            "-----------------------------\n",
            "lr:  1e-06  dropout:  0.05\n",
            "Epoch 1/120\n"
          ],
          "name": "stdout"
        },
        {
          "output_type": "error",
          "ename": "ValueError",
          "evalue": "ignored",
          "traceback": [
            "\u001b[0;31m---------------------------------------------------------------------------\u001b[0m",
            "\u001b[0;31mValueError\u001b[0m                                Traceback (most recent call last)",
            "\u001b[0;32m<ipython-input-19-ac4b9b581b0b>\u001b[0m in \u001b[0;36m<module>\u001b[0;34m()\u001b[0m\n\u001b[1;32m      1\u001b[0m \u001b[0;32mfor\u001b[0m \u001b[0mlr\u001b[0m \u001b[0;32min\u001b[0m \u001b[0;34m[\u001b[0m\u001b[0;36m1e-6\u001b[0m\u001b[0;34m,\u001b[0m\u001b[0;36m1e-5\u001b[0m\u001b[0;34m,\u001b[0m\u001b[0;36m1e-4\u001b[0m\u001b[0;34m,\u001b[0m\u001b[0;36m1e-3\u001b[0m\u001b[0;34m]\u001b[0m\u001b[0;34m:\u001b[0m\u001b[0;34m\u001b[0m\u001b[0;34m\u001b[0m\u001b[0m\n\u001b[1;32m      2\u001b[0m   \u001b[0;32mfor\u001b[0m \u001b[0mdrop\u001b[0m \u001b[0;32min\u001b[0m \u001b[0;34m[\u001b[0m\u001b[0;36m.05\u001b[0m\u001b[0;34m,\u001b[0m\u001b[0;36m.125\u001b[0m\u001b[0;34m,\u001b[0m \u001b[0;36m.175\u001b[0m\u001b[0;34m,\u001b[0m \u001b[0;36m.2\u001b[0m\u001b[0;34m]\u001b[0m\u001b[0;34m:\u001b[0m\u001b[0;34m\u001b[0m\u001b[0;34m\u001b[0m\u001b[0m\n\u001b[0;32m----> 3\u001b[0;31m     \u001b[0mtrainWT_CNN\u001b[0m\u001b[0;34m(\u001b[0m\u001b[0mlr\u001b[0m\u001b[0;34m,\u001b[0m\u001b[0mdrop\u001b[0m\u001b[0;34m)\u001b[0m\u001b[0;34m\u001b[0m\u001b[0;34m\u001b[0m\u001b[0m\n\u001b[0m",
            "\u001b[0;32m<ipython-input-16-f2d1b9c0fc1e>\u001b[0m in \u001b[0;36mtrainWT_CNN\u001b[0;34m(lr, dropout)\u001b[0m\n\u001b[1;32m     32\u001b[0m \u001b[0;34m\u001b[0m\u001b[0m\n\u001b[1;32m     33\u001b[0m   \u001b[0mCN1\u001b[0m\u001b[0;34m.\u001b[0m\u001b[0mcompile\u001b[0m\u001b[0;34m(\u001b[0m\u001b[0moptimizer\u001b[0m\u001b[0;34m=\u001b[0m\u001b[0moptim\u001b[0m\u001b[0;34m,\u001b[0m            \u001b[0mloss\u001b[0m \u001b[0;34m=\u001b[0m \u001b[0mtf\u001b[0m\u001b[0;34m.\u001b[0m\u001b[0mkeras\u001b[0m\u001b[0;34m.\u001b[0m\u001b[0mlosses\u001b[0m\u001b[0;34m.\u001b[0m\u001b[0mCategoricalCrossentropy\u001b[0m\u001b[0;34m(\u001b[0m\u001b[0mfrom_logits\u001b[0m\u001b[0;34m=\u001b[0m\u001b[0;32mTrue\u001b[0m\u001b[0;34m)\u001b[0m\u001b[0;34m,\u001b[0m            \u001b[0mmetrics\u001b[0m \u001b[0;34m=\u001b[0m \u001b[0;34m[\u001b[0m\u001b[0mtf\u001b[0m\u001b[0;34m.\u001b[0m\u001b[0mkeras\u001b[0m\u001b[0;34m.\u001b[0m\u001b[0mmetrics\u001b[0m\u001b[0;34m.\u001b[0m\u001b[0mCategoricalAccuracy\u001b[0m\u001b[0;34m(\u001b[0m\u001b[0;34m)\u001b[0m\u001b[0;34m]\u001b[0m\u001b[0;34m)\u001b[0m\u001b[0;34m\u001b[0m\u001b[0;34m\u001b[0m\u001b[0m\n\u001b[0;32m---> 34\u001b[0;31m   \u001b[0mfitCN1\u001b[0m \u001b[0;34m=\u001b[0m \u001b[0mCN1\u001b[0m\u001b[0;34m.\u001b[0m\u001b[0mfit\u001b[0m\u001b[0;34m(\u001b[0m\u001b[0mFFT_train\u001b[0m\u001b[0;34m,\u001b[0m \u001b[0my_train\u001b[0m\u001b[0;34m[\u001b[0m\u001b[0;36m0\u001b[0m\u001b[0;34m:\u001b[0m\u001b[0mN_WT_train\u001b[0m\u001b[0;34m]\u001b[0m\u001b[0;34m,\u001b[0m \u001b[0mbatch_size\u001b[0m\u001b[0;34m=\u001b[0m\u001b[0;36m64\u001b[0m\u001b[0;34m,\u001b[0m \u001b[0mepochs\u001b[0m\u001b[0;34m=\u001b[0m\u001b[0;36m120\u001b[0m\u001b[0;34m,\u001b[0m \u001b[0mvalidation_data\u001b[0m\u001b[0;34m=\u001b[0m\u001b[0;34m(\u001b[0m\u001b[0mFFT_val\u001b[0m\u001b[0;34m,\u001b[0m \u001b[0my_val\u001b[0m\u001b[0;34m[\u001b[0m\u001b[0;36m0\u001b[0m\u001b[0;34m:\u001b[0m\u001b[0mN_WT_val\u001b[0m\u001b[0;34m]\u001b[0m\u001b[0;34m)\u001b[0m\u001b[0;34m)\u001b[0m\u001b[0;34m\u001b[0m\u001b[0;34m\u001b[0m\u001b[0m\n\u001b[0m\u001b[1;32m     35\u001b[0m   \u001b[0mprint\u001b[0m\u001b[0;34m(\u001b[0m\u001b[0;34m\"eval:\"\u001b[0m\u001b[0;34m)\u001b[0m\u001b[0;34m\u001b[0m\u001b[0;34m\u001b[0m\u001b[0m\n\u001b[1;32m     36\u001b[0m   \u001b[0mCN1\u001b[0m\u001b[0;34m.\u001b[0m\u001b[0mevaluate\u001b[0m\u001b[0;34m(\u001b[0m\u001b[0mFFT_test\u001b[0m\u001b[0;34m,\u001b[0m \u001b[0my_test\u001b[0m\u001b[0;34m[\u001b[0m\u001b[0;36m0\u001b[0m\u001b[0;34m:\u001b[0m\u001b[0mN_WT_test\u001b[0m\u001b[0;34m]\u001b[0m\u001b[0;34m)\u001b[0m\u001b[0;34m\u001b[0m\u001b[0;34m\u001b[0m\u001b[0m\n",
            "\u001b[0;32m/usr/local/lib/python3.7/dist-packages/tensorflow/python/keras/engine/training.py\u001b[0m in \u001b[0;36mfit\u001b[0;34m(self, x, y, batch_size, epochs, verbose, callbacks, validation_split, validation_data, shuffle, class_weight, sample_weight, initial_epoch, steps_per_epoch, validation_steps, validation_batch_size, validation_freq, max_queue_size, workers, use_multiprocessing)\u001b[0m\n\u001b[1;32m   1098\u001b[0m                 _r=1):\n\u001b[1;32m   1099\u001b[0m               \u001b[0mcallbacks\u001b[0m\u001b[0;34m.\u001b[0m\u001b[0mon_train_batch_begin\u001b[0m\u001b[0;34m(\u001b[0m\u001b[0mstep\u001b[0m\u001b[0;34m)\u001b[0m\u001b[0;34m\u001b[0m\u001b[0;34m\u001b[0m\u001b[0m\n\u001b[0;32m-> 1100\u001b[0;31m               \u001b[0mtmp_logs\u001b[0m \u001b[0;34m=\u001b[0m \u001b[0mself\u001b[0m\u001b[0;34m.\u001b[0m\u001b[0mtrain_function\u001b[0m\u001b[0;34m(\u001b[0m\u001b[0miterator\u001b[0m\u001b[0;34m)\u001b[0m\u001b[0;34m\u001b[0m\u001b[0;34m\u001b[0m\u001b[0m\n\u001b[0m\u001b[1;32m   1101\u001b[0m               \u001b[0;32mif\u001b[0m \u001b[0mdata_handler\u001b[0m\u001b[0;34m.\u001b[0m\u001b[0mshould_sync\u001b[0m\u001b[0;34m:\u001b[0m\u001b[0;34m\u001b[0m\u001b[0;34m\u001b[0m\u001b[0m\n\u001b[1;32m   1102\u001b[0m                 \u001b[0mcontext\u001b[0m\u001b[0;34m.\u001b[0m\u001b[0masync_wait\u001b[0m\u001b[0;34m(\u001b[0m\u001b[0;34m)\u001b[0m\u001b[0;34m\u001b[0m\u001b[0;34m\u001b[0m\u001b[0m\n",
            "\u001b[0;32m/usr/local/lib/python3.7/dist-packages/tensorflow/python/eager/def_function.py\u001b[0m in \u001b[0;36m__call__\u001b[0;34m(self, *args, **kwds)\u001b[0m\n\u001b[1;32m    826\u001b[0m     \u001b[0mtracing_count\u001b[0m \u001b[0;34m=\u001b[0m \u001b[0mself\u001b[0m\u001b[0;34m.\u001b[0m\u001b[0mexperimental_get_tracing_count\u001b[0m\u001b[0;34m(\u001b[0m\u001b[0;34m)\u001b[0m\u001b[0;34m\u001b[0m\u001b[0;34m\u001b[0m\u001b[0m\n\u001b[1;32m    827\u001b[0m     \u001b[0;32mwith\u001b[0m \u001b[0mtrace\u001b[0m\u001b[0;34m.\u001b[0m\u001b[0mTrace\u001b[0m\u001b[0;34m(\u001b[0m\u001b[0mself\u001b[0m\u001b[0;34m.\u001b[0m\u001b[0m_name\u001b[0m\u001b[0;34m)\u001b[0m \u001b[0;32mas\u001b[0m \u001b[0mtm\u001b[0m\u001b[0;34m:\u001b[0m\u001b[0;34m\u001b[0m\u001b[0;34m\u001b[0m\u001b[0m\n\u001b[0;32m--> 828\u001b[0;31m       \u001b[0mresult\u001b[0m \u001b[0;34m=\u001b[0m \u001b[0mself\u001b[0m\u001b[0;34m.\u001b[0m\u001b[0m_call\u001b[0m\u001b[0;34m(\u001b[0m\u001b[0;34m*\u001b[0m\u001b[0margs\u001b[0m\u001b[0;34m,\u001b[0m \u001b[0;34m**\u001b[0m\u001b[0mkwds\u001b[0m\u001b[0;34m)\u001b[0m\u001b[0;34m\u001b[0m\u001b[0;34m\u001b[0m\u001b[0m\n\u001b[0m\u001b[1;32m    829\u001b[0m       \u001b[0mcompiler\u001b[0m \u001b[0;34m=\u001b[0m \u001b[0;34m\"xla\"\u001b[0m \u001b[0;32mif\u001b[0m \u001b[0mself\u001b[0m\u001b[0;34m.\u001b[0m\u001b[0m_experimental_compile\u001b[0m \u001b[0;32melse\u001b[0m \u001b[0;34m\"nonXla\"\u001b[0m\u001b[0;34m\u001b[0m\u001b[0;34m\u001b[0m\u001b[0m\n\u001b[1;32m    830\u001b[0m       \u001b[0mnew_tracing_count\u001b[0m \u001b[0;34m=\u001b[0m \u001b[0mself\u001b[0m\u001b[0;34m.\u001b[0m\u001b[0mexperimental_get_tracing_count\u001b[0m\u001b[0;34m(\u001b[0m\u001b[0;34m)\u001b[0m\u001b[0;34m\u001b[0m\u001b[0;34m\u001b[0m\u001b[0m\n",
            "\u001b[0;32m/usr/local/lib/python3.7/dist-packages/tensorflow/python/eager/def_function.py\u001b[0m in \u001b[0;36m_call\u001b[0;34m(self, *args, **kwds)\u001b[0m\n\u001b[1;32m    869\u001b[0m       \u001b[0;31m# This is the first call of __call__, so we have to initialize.\u001b[0m\u001b[0;34m\u001b[0m\u001b[0;34m\u001b[0m\u001b[0;34m\u001b[0m\u001b[0m\n\u001b[1;32m    870\u001b[0m       \u001b[0minitializers\u001b[0m \u001b[0;34m=\u001b[0m \u001b[0;34m[\u001b[0m\u001b[0;34m]\u001b[0m\u001b[0;34m\u001b[0m\u001b[0;34m\u001b[0m\u001b[0m\n\u001b[0;32m--> 871\u001b[0;31m       \u001b[0mself\u001b[0m\u001b[0;34m.\u001b[0m\u001b[0m_initialize\u001b[0m\u001b[0;34m(\u001b[0m\u001b[0margs\u001b[0m\u001b[0;34m,\u001b[0m \u001b[0mkwds\u001b[0m\u001b[0;34m,\u001b[0m \u001b[0madd_initializers_to\u001b[0m\u001b[0;34m=\u001b[0m\u001b[0minitializers\u001b[0m\u001b[0;34m)\u001b[0m\u001b[0;34m\u001b[0m\u001b[0;34m\u001b[0m\u001b[0m\n\u001b[0m\u001b[1;32m    872\u001b[0m     \u001b[0;32mfinally\u001b[0m\u001b[0;34m:\u001b[0m\u001b[0;34m\u001b[0m\u001b[0;34m\u001b[0m\u001b[0m\n\u001b[1;32m    873\u001b[0m       \u001b[0;31m# At this point we know that the initialization is complete (or less\u001b[0m\u001b[0;34m\u001b[0m\u001b[0;34m\u001b[0m\u001b[0;34m\u001b[0m\u001b[0m\n",
            "\u001b[0;32m/usr/local/lib/python3.7/dist-packages/tensorflow/python/eager/def_function.py\u001b[0m in \u001b[0;36m_initialize\u001b[0;34m(self, args, kwds, add_initializers_to)\u001b[0m\n\u001b[1;32m    724\u001b[0m     self._concrete_stateful_fn = (\n\u001b[1;32m    725\u001b[0m         self._stateful_fn._get_concrete_function_internal_garbage_collected(  # pylint: disable=protected-access\n\u001b[0;32m--> 726\u001b[0;31m             *args, **kwds))\n\u001b[0m\u001b[1;32m    727\u001b[0m \u001b[0;34m\u001b[0m\u001b[0m\n\u001b[1;32m    728\u001b[0m     \u001b[0;32mdef\u001b[0m \u001b[0minvalid_creator_scope\u001b[0m\u001b[0;34m(\u001b[0m\u001b[0;34m*\u001b[0m\u001b[0munused_args\u001b[0m\u001b[0;34m,\u001b[0m \u001b[0;34m**\u001b[0m\u001b[0munused_kwds\u001b[0m\u001b[0;34m)\u001b[0m\u001b[0;34m:\u001b[0m\u001b[0;34m\u001b[0m\u001b[0;34m\u001b[0m\u001b[0m\n",
            "\u001b[0;32m/usr/local/lib/python3.7/dist-packages/tensorflow/python/eager/function.py\u001b[0m in \u001b[0;36m_get_concrete_function_internal_garbage_collected\u001b[0;34m(self, *args, **kwargs)\u001b[0m\n\u001b[1;32m   2967\u001b[0m       \u001b[0margs\u001b[0m\u001b[0;34m,\u001b[0m \u001b[0mkwargs\u001b[0m \u001b[0;34m=\u001b[0m \u001b[0;32mNone\u001b[0m\u001b[0;34m,\u001b[0m \u001b[0;32mNone\u001b[0m\u001b[0;34m\u001b[0m\u001b[0;34m\u001b[0m\u001b[0m\n\u001b[1;32m   2968\u001b[0m     \u001b[0;32mwith\u001b[0m \u001b[0mself\u001b[0m\u001b[0;34m.\u001b[0m\u001b[0m_lock\u001b[0m\u001b[0;34m:\u001b[0m\u001b[0;34m\u001b[0m\u001b[0;34m\u001b[0m\u001b[0m\n\u001b[0;32m-> 2969\u001b[0;31m       \u001b[0mgraph_function\u001b[0m\u001b[0;34m,\u001b[0m \u001b[0m_\u001b[0m \u001b[0;34m=\u001b[0m \u001b[0mself\u001b[0m\u001b[0;34m.\u001b[0m\u001b[0m_maybe_define_function\u001b[0m\u001b[0;34m(\u001b[0m\u001b[0margs\u001b[0m\u001b[0;34m,\u001b[0m \u001b[0mkwargs\u001b[0m\u001b[0;34m)\u001b[0m\u001b[0;34m\u001b[0m\u001b[0;34m\u001b[0m\u001b[0m\n\u001b[0m\u001b[1;32m   2970\u001b[0m     \u001b[0;32mreturn\u001b[0m \u001b[0mgraph_function\u001b[0m\u001b[0;34m\u001b[0m\u001b[0;34m\u001b[0m\u001b[0m\n\u001b[1;32m   2971\u001b[0m \u001b[0;34m\u001b[0m\u001b[0m\n",
            "\u001b[0;32m/usr/local/lib/python3.7/dist-packages/tensorflow/python/eager/function.py\u001b[0m in \u001b[0;36m_maybe_define_function\u001b[0;34m(self, args, kwargs)\u001b[0m\n\u001b[1;32m   3359\u001b[0m \u001b[0;34m\u001b[0m\u001b[0m\n\u001b[1;32m   3360\u001b[0m           \u001b[0mself\u001b[0m\u001b[0;34m.\u001b[0m\u001b[0m_function_cache\u001b[0m\u001b[0;34m.\u001b[0m\u001b[0mmissed\u001b[0m\u001b[0;34m.\u001b[0m\u001b[0madd\u001b[0m\u001b[0;34m(\u001b[0m\u001b[0mcall_context_key\u001b[0m\u001b[0;34m)\u001b[0m\u001b[0;34m\u001b[0m\u001b[0;34m\u001b[0m\u001b[0m\n\u001b[0;32m-> 3361\u001b[0;31m           \u001b[0mgraph_function\u001b[0m \u001b[0;34m=\u001b[0m \u001b[0mself\u001b[0m\u001b[0;34m.\u001b[0m\u001b[0m_create_graph_function\u001b[0m\u001b[0;34m(\u001b[0m\u001b[0margs\u001b[0m\u001b[0;34m,\u001b[0m \u001b[0mkwargs\u001b[0m\u001b[0;34m)\u001b[0m\u001b[0;34m\u001b[0m\u001b[0;34m\u001b[0m\u001b[0m\n\u001b[0m\u001b[1;32m   3362\u001b[0m           \u001b[0mself\u001b[0m\u001b[0;34m.\u001b[0m\u001b[0m_function_cache\u001b[0m\u001b[0;34m.\u001b[0m\u001b[0mprimary\u001b[0m\u001b[0;34m[\u001b[0m\u001b[0mcache_key\u001b[0m\u001b[0;34m]\u001b[0m \u001b[0;34m=\u001b[0m \u001b[0mgraph_function\u001b[0m\u001b[0;34m\u001b[0m\u001b[0;34m\u001b[0m\u001b[0m\n\u001b[1;32m   3363\u001b[0m \u001b[0;34m\u001b[0m\u001b[0m\n",
            "\u001b[0;32m/usr/local/lib/python3.7/dist-packages/tensorflow/python/eager/function.py\u001b[0m in \u001b[0;36m_create_graph_function\u001b[0;34m(self, args, kwargs, override_flat_arg_shapes)\u001b[0m\n\u001b[1;32m   3204\u001b[0m             \u001b[0marg_names\u001b[0m\u001b[0;34m=\u001b[0m\u001b[0marg_names\u001b[0m\u001b[0;34m,\u001b[0m\u001b[0;34m\u001b[0m\u001b[0;34m\u001b[0m\u001b[0m\n\u001b[1;32m   3205\u001b[0m             \u001b[0moverride_flat_arg_shapes\u001b[0m\u001b[0;34m=\u001b[0m\u001b[0moverride_flat_arg_shapes\u001b[0m\u001b[0;34m,\u001b[0m\u001b[0;34m\u001b[0m\u001b[0;34m\u001b[0m\u001b[0m\n\u001b[0;32m-> 3206\u001b[0;31m             capture_by_value=self._capture_by_value),\n\u001b[0m\u001b[1;32m   3207\u001b[0m         \u001b[0mself\u001b[0m\u001b[0;34m.\u001b[0m\u001b[0m_function_attributes\u001b[0m\u001b[0;34m,\u001b[0m\u001b[0;34m\u001b[0m\u001b[0;34m\u001b[0m\u001b[0m\n\u001b[1;32m   3208\u001b[0m         \u001b[0mfunction_spec\u001b[0m\u001b[0;34m=\u001b[0m\u001b[0mself\u001b[0m\u001b[0;34m.\u001b[0m\u001b[0mfunction_spec\u001b[0m\u001b[0;34m,\u001b[0m\u001b[0;34m\u001b[0m\u001b[0;34m\u001b[0m\u001b[0m\n",
            "\u001b[0;32m/usr/local/lib/python3.7/dist-packages/tensorflow/python/framework/func_graph.py\u001b[0m in \u001b[0;36mfunc_graph_from_py_func\u001b[0;34m(name, python_func, args, kwargs, signature, func_graph, autograph, autograph_options, add_control_dependencies, arg_names, op_return_value, collections, capture_by_value, override_flat_arg_shapes)\u001b[0m\n\u001b[1;32m    988\u001b[0m         \u001b[0m_\u001b[0m\u001b[0;34m,\u001b[0m \u001b[0moriginal_func\u001b[0m \u001b[0;34m=\u001b[0m \u001b[0mtf_decorator\u001b[0m\u001b[0;34m.\u001b[0m\u001b[0munwrap\u001b[0m\u001b[0;34m(\u001b[0m\u001b[0mpython_func\u001b[0m\u001b[0;34m)\u001b[0m\u001b[0;34m\u001b[0m\u001b[0;34m\u001b[0m\u001b[0m\n\u001b[1;32m    989\u001b[0m \u001b[0;34m\u001b[0m\u001b[0m\n\u001b[0;32m--> 990\u001b[0;31m       \u001b[0mfunc_outputs\u001b[0m \u001b[0;34m=\u001b[0m \u001b[0mpython_func\u001b[0m\u001b[0;34m(\u001b[0m\u001b[0;34m*\u001b[0m\u001b[0mfunc_args\u001b[0m\u001b[0;34m,\u001b[0m \u001b[0;34m**\u001b[0m\u001b[0mfunc_kwargs\u001b[0m\u001b[0;34m)\u001b[0m\u001b[0;34m\u001b[0m\u001b[0;34m\u001b[0m\u001b[0m\n\u001b[0m\u001b[1;32m    991\u001b[0m \u001b[0;34m\u001b[0m\u001b[0m\n\u001b[1;32m    992\u001b[0m       \u001b[0;31m# invariant: `func_outputs` contains only Tensors, CompositeTensors,\u001b[0m\u001b[0;34m\u001b[0m\u001b[0;34m\u001b[0m\u001b[0;34m\u001b[0m\u001b[0m\n",
            "\u001b[0;32m/usr/local/lib/python3.7/dist-packages/tensorflow/python/eager/def_function.py\u001b[0m in \u001b[0;36mwrapped_fn\u001b[0;34m(*args, **kwds)\u001b[0m\n\u001b[1;32m    632\u001b[0m             \u001b[0mxla_context\u001b[0m\u001b[0;34m.\u001b[0m\u001b[0mExit\u001b[0m\u001b[0;34m(\u001b[0m\u001b[0;34m)\u001b[0m\u001b[0;34m\u001b[0m\u001b[0;34m\u001b[0m\u001b[0m\n\u001b[1;32m    633\u001b[0m         \u001b[0;32melse\u001b[0m\u001b[0;34m:\u001b[0m\u001b[0;34m\u001b[0m\u001b[0;34m\u001b[0m\u001b[0m\n\u001b[0;32m--> 634\u001b[0;31m           \u001b[0mout\u001b[0m \u001b[0;34m=\u001b[0m \u001b[0mweak_wrapped_fn\u001b[0m\u001b[0;34m(\u001b[0m\u001b[0;34m)\u001b[0m\u001b[0;34m.\u001b[0m\u001b[0m__wrapped__\u001b[0m\u001b[0;34m(\u001b[0m\u001b[0;34m*\u001b[0m\u001b[0margs\u001b[0m\u001b[0;34m,\u001b[0m \u001b[0;34m**\u001b[0m\u001b[0mkwds\u001b[0m\u001b[0;34m)\u001b[0m\u001b[0;34m\u001b[0m\u001b[0;34m\u001b[0m\u001b[0m\n\u001b[0m\u001b[1;32m    635\u001b[0m         \u001b[0;32mreturn\u001b[0m \u001b[0mout\u001b[0m\u001b[0;34m\u001b[0m\u001b[0;34m\u001b[0m\u001b[0m\n\u001b[1;32m    636\u001b[0m \u001b[0;34m\u001b[0m\u001b[0m\n",
            "\u001b[0;32m/usr/local/lib/python3.7/dist-packages/tensorflow/python/framework/func_graph.py\u001b[0m in \u001b[0;36mwrapper\u001b[0;34m(*args, **kwargs)\u001b[0m\n\u001b[1;32m    975\u001b[0m           \u001b[0;32mexcept\u001b[0m \u001b[0mException\u001b[0m \u001b[0;32mas\u001b[0m \u001b[0me\u001b[0m\u001b[0;34m:\u001b[0m  \u001b[0;31m# pylint:disable=broad-except\u001b[0m\u001b[0;34m\u001b[0m\u001b[0;34m\u001b[0m\u001b[0m\n\u001b[1;32m    976\u001b[0m             \u001b[0;32mif\u001b[0m \u001b[0mhasattr\u001b[0m\u001b[0;34m(\u001b[0m\u001b[0me\u001b[0m\u001b[0;34m,\u001b[0m \u001b[0;34m\"ag_error_metadata\"\u001b[0m\u001b[0;34m)\u001b[0m\u001b[0;34m:\u001b[0m\u001b[0;34m\u001b[0m\u001b[0;34m\u001b[0m\u001b[0m\n\u001b[0;32m--> 977\u001b[0;31m               \u001b[0;32mraise\u001b[0m \u001b[0me\u001b[0m\u001b[0;34m.\u001b[0m\u001b[0mag_error_metadata\u001b[0m\u001b[0;34m.\u001b[0m\u001b[0mto_exception\u001b[0m\u001b[0;34m(\u001b[0m\u001b[0me\u001b[0m\u001b[0;34m)\u001b[0m\u001b[0;34m\u001b[0m\u001b[0;34m\u001b[0m\u001b[0m\n\u001b[0m\u001b[1;32m    978\u001b[0m             \u001b[0;32melse\u001b[0m\u001b[0;34m:\u001b[0m\u001b[0;34m\u001b[0m\u001b[0;34m\u001b[0m\u001b[0m\n\u001b[1;32m    979\u001b[0m               \u001b[0;32mraise\u001b[0m\u001b[0;34m\u001b[0m\u001b[0;34m\u001b[0m\u001b[0m\n",
            "\u001b[0;31mValueError\u001b[0m: in user code:\n\n    /usr/local/lib/python3.7/dist-packages/tensorflow/python/keras/engine/training.py:805 train_function  *\n        return step_function(self, iterator)\n    /usr/local/lib/python3.7/dist-packages/tensorflow/python/keras/engine/training.py:795 step_function  **\n        outputs = model.distribute_strategy.run(run_step, args=(data,))\n    /usr/local/lib/python3.7/dist-packages/tensorflow/python/distribute/distribute_lib.py:1259 run\n        return self._extended.call_for_each_replica(fn, args=args, kwargs=kwargs)\n    /usr/local/lib/python3.7/dist-packages/tensorflow/python/distribute/distribute_lib.py:2730 call_for_each_replica\n        return self._call_for_each_replica(fn, args, kwargs)\n    /usr/local/lib/python3.7/dist-packages/tensorflow/python/distribute/distribute_lib.py:3417 _call_for_each_replica\n        return fn(*args, **kwargs)\n    /usr/local/lib/python3.7/dist-packages/tensorflow/python/keras/engine/training.py:788 run_step  **\n        outputs = model.train_step(data)\n    /usr/local/lib/python3.7/dist-packages/tensorflow/python/keras/engine/training.py:756 train_step\n        y, y_pred, sample_weight, regularization_losses=self.losses)\n    /usr/local/lib/python3.7/dist-packages/tensorflow/python/keras/engine/compile_utils.py:203 __call__\n        loss_value = loss_obj(y_t, y_p, sample_weight=sw)\n    /usr/local/lib/python3.7/dist-packages/tensorflow/python/keras/losses.py:152 __call__\n        losses = call_fn(y_true, y_pred)\n    /usr/local/lib/python3.7/dist-packages/tensorflow/python/keras/losses.py:256 call  **\n        return ag_fn(y_true, y_pred, **self._fn_kwargs)\n    /usr/local/lib/python3.7/dist-packages/tensorflow/python/util/dispatch.py:201 wrapper\n        return target(*args, **kwargs)\n    /usr/local/lib/python3.7/dist-packages/tensorflow/python/keras/losses.py:1537 categorical_crossentropy\n        return K.categorical_crossentropy(y_true, y_pred, from_logits=from_logits)\n    /usr/local/lib/python3.7/dist-packages/tensorflow/python/util/dispatch.py:201 wrapper\n        return target(*args, **kwargs)\n    /usr/local/lib/python3.7/dist-packages/tensorflow/python/keras/backend.py:4833 categorical_crossentropy\n        target.shape.assert_is_compatible_with(output.shape)\n    /usr/local/lib/python3.7/dist-packages/tensorflow/python/framework/tensor_shape.py:1134 assert_is_compatible_with\n        raise ValueError(\"Shapes %s and %s are incompatible\" % (self, other))\n\n    ValueError: Shapes (None, 12) and (None, 6) are incompatible\n"
          ]
        }
      ]
    },
    {
      "cell_type": "code",
      "metadata": {
        "colab": {
          "base_uri": "https://localhost:8080/",
          "height": 163
        },
        "id": "2FfdT_RW6u_0",
        "outputId": "5ae1fea6-8748-484b-8f7f-9cc813583cdf"
      },
      "source": [
        "print(fitCN1.history.keys)"
      ],
      "execution_count": 57,
      "outputs": [
        {
          "output_type": "error",
          "ename": "NameError",
          "evalue": "ignored",
          "traceback": [
            "\u001b[0;31m---------------------------------------------------------------------------\u001b[0m",
            "\u001b[0;31mNameError\u001b[0m                                 Traceback (most recent call last)",
            "\u001b[0;32m<ipython-input-57-a1fde8e12aa4>\u001b[0m in \u001b[0;36m<module>\u001b[0;34m()\u001b[0m\n\u001b[0;32m----> 1\u001b[0;31m \u001b[0mprint\u001b[0m\u001b[0;34m(\u001b[0m\u001b[0mfitCN1\u001b[0m\u001b[0;34m.\u001b[0m\u001b[0mhistory\u001b[0m\u001b[0;34m.\u001b[0m\u001b[0mkeys\u001b[0m\u001b[0;34m)\u001b[0m\u001b[0;34m\u001b[0m\u001b[0;34m\u001b[0m\u001b[0m\n\u001b[0m",
            "\u001b[0;31mNameError\u001b[0m: name 'fitCN1' is not defined"
          ]
        }
      ]
    },
    {
      "cell_type": "code",
      "metadata": {
        "id": "ju7hd1nM6xiy"
      },
      "source": [
        "  testFFT = np.fft.fft2(X_train[i],axes=(0,1))\n",
        "  testFFT *= 255/np.absolute(testFFT).max()\n",
        "\n",
        "  "
      ],
      "execution_count": null,
      "outputs": []
    }
  ]
}